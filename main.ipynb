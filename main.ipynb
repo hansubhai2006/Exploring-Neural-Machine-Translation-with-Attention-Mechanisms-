{
 "cells": [
  {
   "cell_type": "code",
   "execution_count": 1,
   "metadata": {},
   "outputs": [],
   "source": [
    "import pandas as pd\n",
    "import re\n",
    "from tqdm import tqdm\n",
    "import copy\n",
    "from sklearn.model_selection import train_test_split"
   ]
  },
  {
   "cell_type": "markdown",
   "metadata": {},
   "source": [
    "# Code to remove sentence and clean text"
   ]
  },
  {
   "cell_type": "code",
   "execution_count": 2,
   "metadata": {},
   "outputs": [
    {
     "name": "stdout",
     "output_type": "stream",
     "text": [
      "Skipping improperly formatted item: [\"ain't aren't can't could've couldn't couldn't've didn't doesn't don't hadn't hadn't've hasn't haven't he'd he'd've he'll he's how'd how'll how's I'd I'd've I'll I'm I've isn't it'd it'd've it'll it's let's ma'am mightn't mightn't've might've mustn't must've needn't not've o'clock oughtn't 'ow's'at shan't she'd she'd've she'll she's should've shouldn't shouldn't've somebody'd somebody'd've somebody'll somebody's someone'd someone'd've someone'll someone's something'd something'd've something'll something's that'll that's there'd there'd've there're there's they'd they'd've they'll they're they've 'twas wasn't we'd we'd've we'll we're we've weren't what'll what're what's what've when's where'd where's where've who'd who'd've who'll who're who's who've why'll why're why's won't would've wouldn't wouldn't've y'all y'all'll y'all'd've you'd you'd've you'll you're you've \"]\n"
     ]
    }
   ],
   "source": [
    "import re\n",
    "\n",
    "# Importing contractions\n",
    "with open(\"contractions.txt\", \"r\") as inp_cont:\n",
    "    contractions_list = inp_cont.read()\n",
    "\n",
    "# Process contractions list and handle potential errors\n",
    "contractions_list = [\n",
    "    re.sub('[\"]', '', x).split(\":\") for x in re.sub(r\"\\s+\", \" \", re.sub(r\"(.*{)|(}.*)\", '', contractions_list)).split(',')\n",
    "]\n",
    "\n",
    "# Safely create contractions_dict and print warnings for improperly formatted items\n",
    "contractions_dict = {}\n",
    "for item in contractions_list:\n",
    "    if len(item) == 2:\n",
    "        k, v = item\n",
    "        contractions_dict[k.lower().strip()] = re.sub('/.*', '', v).lower().strip()\n",
    "    else:\n",
    "        print(f\"Skipping improperly formatted item: {item}\")\n",
    "\n",
    "def remove_sc(_line, lang=\"en\"):\n",
    "    # Removes special characters based on the language\n",
    "    if lang == \"hi\":\n",
    "        _line = re.sub(r'[+\\-*/#@%>=;~{}×–`’\"()_]', \"\", _line)\n",
    "        _line = re.sub(r\"(?:(\\[)|(\\])|(‘‘)|(’’))\", '', _line)\n",
    "    elif lang == \"en\":\n",
    "        _line = re.sub(r'[+\\-*/#@%>=;~{}×–`’\"()_|:]', \"\", _line)\n",
    "        _line = re.sub(r\"(?:(\\[)|(\\])|(‘‘)|(’’))\", '', _line)\n",
    "    return _line\n",
    "\n",
    "def clean_text(_text, lang=\"en\"):\n",
    "    # Clean the text using special character removal and contractions expansion\n",
    "    _text = remove_sc(_line=_text, lang=lang)\n",
    "    if lang == \"en\":\n",
    "        for cn in contractions_dict:\n",
    "            # Using word boundaries (\\b) to avoid partial matches\n",
    "            _text = re.sub(r'\\b' + re.escape(cn) + r'\\b', contractions_dict[cn], _text)\n",
    "    return _text\n"
   ]
  },
  {
   "cell_type": "code",
   "execution_count": 3,
   "metadata": {},
   "outputs": [],
   "source": [
    "df = pd.read_csv(\"hindi_english_parallel.csv\")\n",
    "\n",
    "hindi_text = df['hindi']\n",
    "english_text = df['english']"
   ]
  },
  {
   "cell_type": "code",
   "execution_count": 4,
   "metadata": {},
   "outputs": [
    {
     "name": "stdout",
     "output_type": "stream",
     "text": [
      "<bound method NDFrame.head of 0            अपने अनुप्रयोग को पहुंचनीयता व्यायाम का लाभ दें\n",
      "1                            एक्सेर्साइसर पहुंचनीयता अन्वेषक\n",
      "2                      निचले पटल के लिए डिफोल्ट प्लग-इन खाका\n",
      "3                       ऊपरी पटल के लिए डिफोल्ट प्लग-इन खाका\n",
      "4          उन प्लग-इनों की सूची जिन्हें डिफोल्ट रूप से नि...\n",
      "                                 ...                        \n",
      "1561836    स्पष्टीकरण.–जहां इस उपधारा के अधीन हानि और लाभ...\n",
      "1561837    मैंने गौर किया है कि यह न केवल अपने महत्त्वपूर...\n",
      "1561838    उन्होंने मेरे समक्ष जो प्रदर्शन किया उसमें से ...\n",
      "1561839    खाद्य और जल सुरक्षा; पर्यावरण की दृष्टि से वहन...\n",
      "1561840                                                  NaN\n",
      "Name: hindi, Length: 1561841, dtype: object>\n",
      "<bound method NDFrame.head of 0             Give your application an accessibility workout\n",
      "1                          Accerciser Accessibility Explorer\n",
      "2             The default plugin layout for the bottom panel\n",
      "3                The default plugin layout for the top panel\n",
      "4             A list of plugins that are disabled by default\n",
      "                                 ...                        \n",
      "1561836    स्पष्टीकरण.–जहां इस उपधारा के अधीन हानि और लाभ...\n",
      "1561837    है। I note that this is a landmark meeting – n...\n",
      "1561838    है। In the presentations that they made before...\n",
      "1561839    ्त है। Issues such as food and water security;...\n",
      "1561840                                                  NaN\n",
      "Name: english, Length: 1561841, dtype: object>\n"
     ]
    }
   ],
   "source": [
    "print(hindi_text.head)\n",
    "print(english_text.head)"
   ]
  },
  {
   "cell_type": "code",
   "execution_count": 5,
   "metadata": {},
   "outputs": [
    {
     "name": "stderr",
     "output_type": "stream",
     "text": [
      "1561841it [00:07, 220077.46it/s]\n"
     ]
    }
   ],
   "source": [
    "ids_to_remove = {}\n",
    "for _id, _t in tqdm(enumerate(hindi_text)):\n",
    "    # Check if _t is a string, if not, skip or convert to string\n",
    "    if isinstance(_t, str):\n",
    "        if len(re.findall(r'[a-zA-Z]', _t)) > 0:\n",
    "            ids_to_remove[_id] = _t\n",
    "    else:\n",
    "        pass"
   ]
  },
  {
   "cell_type": "code",
   "execution_count": null,
   "metadata": {},
   "outputs": [
    {
     "name": "stderr",
     "output_type": "stream",
     "text": [
      "  1%|▏         | 20598/1434242 [00:00<00:14, 98063.63it/s]"
     ]
    },
    {
     "name": "stdout",
     "output_type": "stream",
     "text": [
      "Non-string value encountered at index 7838: nan\n",
      "Non-string value encountered at index 8416: nan\n",
      "Non-string value encountered at index 9082: nan\n",
      "Non-string value encountered at index 9785: nan\n",
      "Non-string value encountered at index 10492: nan\n",
      "Non-string value encountered at index 12371: nan\n",
      "Non-string value encountered at index 14466: nan\n",
      "Non-string value encountered at index 16441: nan\n",
      "Non-string value encountered at index 18295: nan\n",
      "Non-string value encountered at index 20333: nan\n",
      "Non-string value encountered at index 22281: nan\n",
      "Non-string value encountered at index 24250: nan\n",
      "Non-string value encountered at index 26205: nan\n"
     ]
    },
    {
     "name": "stderr",
     "output_type": "stream",
     "text": [
      "  3%|▎         | 48689/1434242 [00:00<00:18, 75526.76it/s]"
     ]
    },
    {
     "name": "stdout",
     "output_type": "stream",
     "text": [
      "Non-string value encountered at index 51968: nan\n",
      "Non-string value encountered at index 53239: nan\n",
      "Non-string value encountered at index 53533: nan\n",
      "Non-string value encountered at index 54285: nan\n",
      "Non-string value encountered at index 55267: nan\n",
      "Non-string value encountered at index 56205: nan\n",
      "Non-string value encountered at index 57756: nan\n",
      "Non-string value encountered at index 58030: nan\n",
      "Non-string value encountered at index 58321: nan\n",
      "Non-string value encountered at index 58618: nan\n",
      "Non-string value encountered at index 58927: nan\n",
      "Non-string value encountered at index 59258: nan\n",
      "Non-string value encountered at index 59590: nan\n",
      "Non-string value encountered at index 59895: nan\n",
      "Non-string value encountered at index 60206: nan\n",
      "Non-string value encountered at index 60529: nan\n",
      "Non-string value encountered at index 60848: nan\n",
      "Non-string value encountered at index 61175: nan\n",
      "Non-string value encountered at index 70038: nan\n",
      "Non-string value encountered at index 70404: nan\n",
      "Non-string value encountered at index 71418: nan\n",
      "Non-string value encountered at index 71801: nan\n",
      "Non-string value encountered at index 72166: nan\n",
      "Non-string value encountered at index 74544: nan\n"
     ]
    },
    {
     "name": "stderr",
     "output_type": "stream",
     "text": [
      "  4%|▍         | 63595/1434242 [00:00<00:20, 66146.13it/s]"
     ]
    },
    {
     "name": "stdout",
     "output_type": "stream",
     "text": [
      "Non-string value encountered at index 84504: nan\n",
      "Non-string value encountered at index 88525: nan\n",
      "Non-string value encountered at index 88719: nan\n",
      "Non-string value encountered at index 88880: nan\n",
      "Non-string value encountered at index 90857: nan\n",
      "Non-string value encountered at index 95328: nan\n",
      "Non-string value encountered at index 99717: nan\n",
      "Non-string value encountered at index 103955: nan\n"
     ]
    },
    {
     "name": "stderr",
     "output_type": "stream",
     "text": [
      "  5%|▌         | 77918/1434242 [00:01<00:21, 62889.02it/s]"
     ]
    },
    {
     "name": "stdout",
     "output_type": "stream",
     "text": [
      "Non-string value encountered at index 108140: nan\n",
      "Non-string value encountered at index 112571: nan\n",
      "Non-string value encountered at index 116696: nan\n",
      "Non-string value encountered at index 121075: nan\n",
      "Non-string value encountered at index 125389: nan\n"
     ]
    },
    {
     "name": "stderr",
     "output_type": "stream",
     "text": [
      "  7%|▋         | 96863/1434242 [00:01<00:22, 58224.60it/s]"
     ]
    },
    {
     "name": "stdout",
     "output_type": "stream",
     "text": [
      "Non-string value encountered at index 131635: nan\n",
      "Non-string value encountered at index 141189: nan\n",
      "Non-string value encountered at index 144798: nan\n",
      "Non-string value encountered at index 145712: nan\n",
      "Non-string value encountered at index 145934: nan\n",
      "Non-string value encountered at index 146515: nan\n",
      "Non-string value encountered at index 149427: nan\n",
      "Non-string value encountered at index 149889: nan\n",
      "Non-string value encountered at index 150630: nan\n",
      "Non-string value encountered at index 151194: nan\n"
     ]
    },
    {
     "name": "stderr",
     "output_type": "stream",
     "text": [
      "  8%|▊         | 110587/1434242 [00:01<00:21, 61202.53it/s]"
     ]
    },
    {
     "name": "stdout",
     "output_type": "stream",
     "text": [
      "Non-string value encountered at index 153032: nan\n",
      "Non-string value encountered at index 153719: nan\n",
      "Non-string value encountered at index 154864: nan\n",
      "Non-string value encountered at index 156114: nan\n",
      "Non-string value encountered at index 157616: nan\n",
      "Non-string value encountered at index 157983: nan\n",
      "Non-string value encountered at index 162208: nan\n",
      "Non-string value encountered at index 166377: nan\n",
      "Non-string value encountered at index 166773: nan\n",
      "Non-string value encountered at index 166981: nan\n",
      "Non-string value encountered at index 168295: nan\n",
      "Non-string value encountered at index 168573: nan\n",
      "Non-string value encountered at index 168927: nan\n",
      "Non-string value encountered at index 169398: nan\n",
      "Non-string value encountered at index 169466: nan\n",
      "Non-string value encountered at index 169694: nan\n",
      "Non-string value encountered at index 173059: nan\n",
      "Non-string value encountered at index 173652: nan\n"
     ]
    },
    {
     "name": "stderr",
     "output_type": "stream",
     "text": [
      "  9%|▊         | 123162/1434242 [00:01<00:23, 54789.83it/s]"
     ]
    },
    {
     "name": "stdout",
     "output_type": "stream",
     "text": [
      "Non-string value encountered at index 177424: nan\n",
      "Non-string value encountered at index 177612: nan\n",
      "Non-string value encountered at index 183210: nan\n",
      "Non-string value encountered at index 185000: nan\n",
      "Non-string value encountered at index 190459: nan\n",
      "Non-string value encountered at index 192087: nan\n",
      "Non-string value encountered at index 193247: nan\n",
      "Non-string value encountered at index 193642: nan\n",
      "Non-string value encountered at index 197868: nan\n",
      "Non-string value encountered at index 197895: nan\n",
      "Non-string value encountered at index 198232: nan\n",
      "Non-string value encountered at index 200044: nan\n",
      "Non-string value encountered at index 200822: nan\n"
     ]
    },
    {
     "name": "stderr",
     "output_type": "stream",
     "text": [
      "  9%|▉         | 135834/1434242 [00:02<00:23, 55766.19it/s]"
     ]
    },
    {
     "name": "stdout",
     "output_type": "stream",
     "text": [
      "Non-string value encountered at index 204488: nan\n",
      "Non-string value encountered at index 206006: nan\n",
      "Non-string value encountered at index 208240: nan\n",
      "Non-string value encountered at index 210894: nan\n",
      "Non-string value encountered at index 211155: nan\n",
      "Non-string value encountered at index 214391: nan\n",
      "Non-string value encountered at index 216542: nan\n",
      "Non-string value encountered at index 218135: nan\n",
      "Non-string value encountered at index 221519: nan\n",
      "Non-string value encountered at index 223325: nan\n"
     ]
    },
    {
     "name": "stderr",
     "output_type": "stream",
     "text": [
      " 11%|█         | 156926/1434242 [00:02<00:19, 64758.92it/s]"
     ]
    },
    {
     "name": "stdout",
     "output_type": "stream",
     "text": [
      "Non-string value encountered at index 224069: nan\n",
      "Non-string value encountered at index 226185: nan\n",
      "Non-string value encountered at index 226641: nan\n",
      "Non-string value encountered at index 226808: nan\n",
      "Non-string value encountered at index 227107: nan\n",
      "Non-string value encountered at index 232444: nan\n",
      "Non-string value encountered at index 233795: nan\n",
      "Non-string value encountered at index 234157: nan\n",
      "Non-string value encountered at index 234473: nan\n",
      "Non-string value encountered at index 236584: nan\n",
      "Non-string value encountered at index 239676: nan\n",
      "Non-string value encountered at index 240594: nan\n",
      "Non-string value encountered at index 242064: nan\n"
     ]
    },
    {
     "name": "stderr",
     "output_type": "stream",
     "text": [
      " 25%|██▌       | 364717/1434242 [00:05<00:15, 68312.37it/s]"
     ]
    },
    {
     "name": "stdout",
     "output_type": "stream",
     "text": [
      "Non-string value encountered at index 439613: nan\n",
      "Non-string value encountered at index 446040: nan\n"
     ]
    },
    {
     "name": "stderr",
     "output_type": "stream",
     "text": [
      " 28%|██▊       | 399352/1434242 [00:05<00:15, 67220.88it/s]"
     ]
    },
    {
     "name": "stdout",
     "output_type": "stream",
     "text": [
      "Non-string value encountered at index 481093: nan\n",
      "Non-string value encountered at index 483791: nan\n"
     ]
    },
    {
     "name": "stderr",
     "output_type": "stream",
     "text": [
      " 29%|██▉       | 412822/1434242 [00:06<00:16, 62858.92it/s]"
     ]
    },
    {
     "name": "stdout",
     "output_type": "stream",
     "text": [
      "Non-string value encountered at index 497989: nan\n",
      "Non-string value encountered at index 511794: nan\n"
     ]
    },
    {
     "name": "stderr",
     "output_type": "stream",
     "text": [
      " 32%|███▏      | 456802/1434242 [00:06<00:14, 68407.62it/s]"
     ]
    },
    {
     "name": "stdout",
     "output_type": "stream",
     "text": [
      "Non-string value encountered at index 544133: nan\n",
      "Non-string value encountered at index 561055: nan\n"
     ]
    },
    {
     "name": "stderr",
     "output_type": "stream",
     "text": [
      " 34%|███▍      | 491303/1434242 [00:07<00:15, 62201.99it/s]"
     ]
    },
    {
     "name": "stdout",
     "output_type": "stream",
     "text": [
      "Non-string value encountered at index 585014: nan\n"
     ]
    },
    {
     "name": "stderr",
     "output_type": "stream",
     "text": [
      " 36%|███▌      | 511693/1434242 [00:07<00:14, 64187.99it/s]"
     ]
    },
    {
     "name": "stdout",
     "output_type": "stream",
     "text": [
      "Non-string value encountered at index 604824: nan\n",
      "Non-string value encountered at index 619651: nan\n"
     ]
    },
    {
     "name": "stderr",
     "output_type": "stream",
     "text": [
      " 37%|███▋      | 527812/1434242 [00:07<00:13, 69336.67it/s]"
     ]
    },
    {
     "name": "stdout",
     "output_type": "stream",
     "text": [
      "Non-string value encountered at index 625782: nan\n",
      "Non-string value encountered at index 639671: nan\n"
     ]
    },
    {
     "name": "stderr",
     "output_type": "stream",
     "text": [
      " 39%|███▉      | 557902/1434242 [00:08<00:12, 68841.30it/s]"
     ]
    },
    {
     "name": "stdout",
     "output_type": "stream",
     "text": [
      "Non-string value encountered at index 651057: nan\n",
      "Non-string value encountered at index 658131: nan\n"
     ]
    },
    {
     "name": "stderr",
     "output_type": "stream",
     "text": [
      " 41%|████      | 586985/1434242 [00:08<00:12, 68435.33it/s]"
     ]
    },
    {
     "name": "stdout",
     "output_type": "stream",
     "text": [
      "Non-string value encountered at index 681171: nan\n",
      "Non-string value encountered at index 696272: nan\n"
     ]
    },
    {
     "name": "stderr",
     "output_type": "stream",
     "text": [
      " 42%|████▏     | 600734/1434242 [00:09<00:12, 64991.76it/s]"
     ]
    },
    {
     "name": "stdout",
     "output_type": "stream",
     "text": [
      "Non-string value encountered at index 700504: nan\n",
      "Non-string value encountered at index 701655: nan\n"
     ]
    },
    {
     "name": "stderr",
     "output_type": "stream",
     "text": [
      " 43%|████▎     | 613341/1434242 [00:09<00:15, 53055.68it/s]"
     ]
    },
    {
     "name": "stdout",
     "output_type": "stream",
     "text": [
      "Non-string value encountered at index 718131: nan\n"
     ]
    },
    {
     "name": "stderr",
     "output_type": "stream",
     "text": [
      " 59%|█████▊    | 839228/1434242 [00:11<00:06, 95236.82it/s] "
     ]
    },
    {
     "name": "stdout",
     "output_type": "stream",
     "text": [
      "Non-string value encountered at index 937971: nan\n"
     ]
    },
    {
     "name": "stderr",
     "output_type": "stream",
     "text": [
      " 66%|██████▌   | 947517/1434242 [00:13<00:06, 80847.04it/s]"
     ]
    },
    {
     "name": "stdout",
     "output_type": "stream",
     "text": [
      "Non-string value encountered at index 1048040: nan\n",
      "Non-string value encountered at index 1048120: nan\n",
      "Non-string value encountered at index 1048134: nan\n",
      "Non-string value encountered at index 1048137: nan\n",
      "Non-string value encountered at index 1048167: nan\n",
      "Non-string value encountered at index 1048207: nan\n",
      "Non-string value encountered at index 1048252: nan\n",
      "Non-string value encountered at index 1048287: nan\n",
      "Non-string value encountered at index 1048425: nan\n",
      "Non-string value encountered at index 1048541: nan\n",
      "Non-string value encountered at index 1048702: nan\n",
      "Non-string value encountered at index 1048703: nan\n",
      "Non-string value encountered at index 1048729: nan\n",
      "Non-string value encountered at index 1048825: nan\n",
      "Non-string value encountered at index 1048832: nan\n",
      "Non-string value encountered at index 1048833: nan\n",
      "Non-string value encountered at index 1048932: nan\n",
      "Non-string value encountered at index 1049083: nan\n",
      "Non-string value encountered at index 1049099: nan\n",
      "Non-string value encountered at index 1049108: nan\n",
      "Non-string value encountered at index 1049113: nan\n",
      "Non-string value encountered at index 1049195: nan\n",
      "Non-string value encountered at index 1050940: nan\n",
      "Non-string value encountered at index 1051112: nan\n",
      "Non-string value encountered at index 1051113: nan\n",
      "Non-string value encountered at index 1051169: nan\n",
      "Non-string value encountered at index 1051221: nan\n",
      "Non-string value encountered at index 1051224: nan\n",
      "Non-string value encountered at index 1051236: nan\n",
      "Non-string value encountered at index 1051417: nan\n",
      "Non-string value encountered at index 1051418: nan\n",
      "Non-string value encountered at index 1051439: nan\n",
      "Non-string value encountered at index 1051447: nan\n",
      "Non-string value encountered at index 1051478: nan\n",
      "Non-string value encountered at index 1051517: nan\n",
      "Non-string value encountered at index 1051524: nan\n",
      "Non-string value encountered at index 1051535: nan\n",
      "Non-string value encountered at index 1051551: nan\n",
      "Non-string value encountered at index 1051592: nan\n",
      "Non-string value encountered at index 1051617: nan\n",
      "Non-string value encountered at index 1051618: nan\n",
      "Non-string value encountered at index 1051703: nan\n",
      "Non-string value encountered at index 1051725: nan\n",
      "Non-string value encountered at index 1051727: nan\n",
      "Non-string value encountered at index 1051751: nan\n",
      "Non-string value encountered at index 1051766: nan\n",
      "Non-string value encountered at index 1051775: nan\n",
      "Non-string value encountered at index 1051845: nan\n",
      "Non-string value encountered at index 1051861: nan\n",
      "Non-string value encountered at index 1051915: nan\n",
      "Non-string value encountered at index 1051974: nan\n",
      "Non-string value encountered at index 1052174: nan\n",
      "Non-string value encountered at index 1052267: nan\n",
      "Non-string value encountered at index 1052285: nan\n",
      "Non-string value encountered at index 1052343: nan\n",
      "Non-string value encountered at index 1052375: nan\n",
      "Non-string value encountered at index 1052381: nan\n",
      "Non-string value encountered at index 1052394: nan\n",
      "Non-string value encountered at index 1052405: nan\n",
      "Non-string value encountered at index 1052454: nan\n",
      "Non-string value encountered at index 1052500: nan\n",
      "Non-string value encountered at index 1052508: nan\n",
      "Non-string value encountered at index 1052522: nan\n",
      "Non-string value encountered at index 1052540: nan\n",
      "Non-string value encountered at index 1052552: nan\n",
      "Non-string value encountered at index 1052553: nan\n",
      "Non-string value encountered at index 1052576: nan\n",
      "Non-string value encountered at index 1052584: nan\n",
      "Non-string value encountered at index 1052873: nan\n",
      "Non-string value encountered at index 1052911: nan\n",
      "Non-string value encountered at index 1052963: nan\n",
      "Non-string value encountered at index 1053147: nan\n",
      "Non-string value encountered at index 1053150: nan\n",
      "Non-string value encountered at index 1053173: nan\n",
      "Non-string value encountered at index 1053492: nan\n",
      "Non-string value encountered at index 1053503: nan\n",
      "Non-string value encountered at index 1053507: nan\n",
      "Non-string value encountered at index 1053563: nan\n",
      "Non-string value encountered at index 1053566: nan\n",
      "Non-string value encountered at index 1053601: nan\n",
      "Non-string value encountered at index 1053624: nan\n",
      "Non-string value encountered at index 1053694: nan\n",
      "Non-string value encountered at index 1053714: nan\n",
      "Non-string value encountered at index 1053922: nan\n",
      "Non-string value encountered at index 1053962: nan\n",
      "Non-string value encountered at index 1053986: nan\n",
      "Non-string value encountered at index 1054006: nan\n",
      "Non-string value encountered at index 1054031: nan\n",
      "Non-string value encountered at index 1054058: nan\n",
      "Non-string value encountered at index 1054114: nan\n",
      "Non-string value encountered at index 1054119: nan\n",
      "Non-string value encountered at index 1054120: nan\n",
      "Non-string value encountered at index 1054217: nan\n",
      "Non-string value encountered at index 1054235: nan\n",
      "Non-string value encountered at index 1054303: nan\n",
      "Non-string value encountered at index 1054310: nan\n",
      "Non-string value encountered at index 1054324: nan\n",
      "Non-string value encountered at index 1054525: nan\n",
      "Non-string value encountered at index 1054548: nan\n",
      "Non-string value encountered at index 1054558: nan\n",
      "Non-string value encountered at index 1054824: nan\n",
      "Non-string value encountered at index 1054873: nan\n",
      "Non-string value encountered at index 1054877: nan\n",
      "Non-string value encountered at index 1054885: nan\n",
      "Non-string value encountered at index 1054917: nan\n",
      "Non-string value encountered at index 1054951: nan\n",
      "Non-string value encountered at index 1055225: nan\n",
      "Non-string value encountered at index 1055280: nan\n",
      "Non-string value encountered at index 1055296: nan\n",
      "Non-string value encountered at index 1055345: nan\n",
      "Non-string value encountered at index 1055402: nan\n",
      "Non-string value encountered at index 1055546: nan\n",
      "Non-string value encountered at index 1055626: nan\n",
      "Non-string value encountered at index 1055649: nan\n",
      "Non-string value encountered at index 1055694: nan\n",
      "Non-string value encountered at index 1055695: nan\n",
      "Non-string value encountered at index 1055703: nan\n",
      "Non-string value encountered at index 1055772: nan\n",
      "Non-string value encountered at index 1055841: nan\n",
      "Non-string value encountered at index 1055858: nan\n",
      "Non-string value encountered at index 1055920: nan\n",
      "Non-string value encountered at index 1055963: nan\n",
      "Non-string value encountered at index 1055975: nan\n",
      "Non-string value encountered at index 1056137: nan\n",
      "Non-string value encountered at index 1056138: nan\n",
      "Non-string value encountered at index 1056198: nan\n",
      "Non-string value encountered at index 1056340: nan\n",
      "Non-string value encountered at index 1056346: nan\n",
      "Non-string value encountered at index 1056392: nan\n",
      "Non-string value encountered at index 1056418: nan\n",
      "Non-string value encountered at index 1056433: nan\n",
      "Non-string value encountered at index 1056588: nan\n",
      "Non-string value encountered at index 1056605: nan\n",
      "Non-string value encountered at index 1056623: nan\n",
      "Non-string value encountered at index 1056784: nan\n",
      "Non-string value encountered at index 1056998: nan\n",
      "Non-string value encountered at index 1057011: nan\n",
      "Non-string value encountered at index 1057048: nan\n",
      "Non-string value encountered at index 1057140: nan\n",
      "Non-string value encountered at index 1057182: nan\n",
      "Non-string value encountered at index 1057238: nan\n",
      "Non-string value encountered at index 1057262: nan\n",
      "Non-string value encountered at index 1057274: nan\n",
      "Non-string value encountered at index 1057357: nan\n",
      "Non-string value encountered at index 1057383: nan\n",
      "Non-string value encountered at index 1057410: nan\n",
      "Non-string value encountered at index 1057496: nan\n",
      "Non-string value encountered at index 1057497: nan\n",
      "Non-string value encountered at index 1057516: nan\n",
      "Non-string value encountered at index 1057517: nan\n",
      "Non-string value encountered at index 1057534: nan\n",
      "Non-string value encountered at index 1057692: nan\n",
      "Non-string value encountered at index 1057693: nan\n",
      "Non-string value encountered at index 1057768: nan\n",
      "Non-string value encountered at index 1057787: nan\n",
      "Non-string value encountered at index 1057808: nan\n",
      "Non-string value encountered at index 1057953: nan\n",
      "Non-string value encountered at index 1057958: nan\n",
      "Non-string value encountered at index 1057968: nan\n",
      "Non-string value encountered at index 1057993: nan\n",
      "Non-string value encountered at index 1057997: nan\n",
      "Non-string value encountered at index 1058002: nan\n",
      "Non-string value encountered at index 1058023: nan\n",
      "Non-string value encountered at index 1058025: nan\n",
      "Non-string value encountered at index 1058189: nan\n",
      "Non-string value encountered at index 1058415: nan\n",
      "Non-string value encountered at index 1058422: nan\n",
      "Non-string value encountered at index 1058436: nan\n",
      "Non-string value encountered at index 1058482: nan\n",
      "Non-string value encountered at index 1058655: nan\n",
      "Non-string value encountered at index 1058686: nan\n",
      "Non-string value encountered at index 1058697: nan\n",
      "Non-string value encountered at index 1058715: nan\n",
      "Non-string value encountered at index 1058747: nan\n",
      "Non-string value encountered at index 1058759: nan\n",
      "Non-string value encountered at index 1058762: nan\n",
      "Non-string value encountered at index 1058770: nan\n",
      "Non-string value encountered at index 1058808: nan\n",
      "Non-string value encountered at index 1058830: nan\n",
      "Non-string value encountered at index 1058843: nan\n",
      "Non-string value encountered at index 1058977: nan\n",
      "Non-string value encountered at index 1059153: nan\n",
      "Non-string value encountered at index 1059204: nan\n",
      "Non-string value encountered at index 1059411: nan\n",
      "Non-string value encountered at index 1059444: nan\n",
      "Non-string value encountered at index 1059592: nan\n",
      "Non-string value encountered at index 1059722: nan\n",
      "Non-string value encountered at index 1059741: nan\n",
      "Non-string value encountered at index 1059759: nan\n",
      "Non-string value encountered at index 1059777: nan\n",
      "Non-string value encountered at index 1059812: nan\n",
      "Non-string value encountered at index 1059819: nan\n",
      "Non-string value encountered at index 1059862: nan\n",
      "Non-string value encountered at index 1059881: nan\n",
      "Non-string value encountered at index 1059906: nan\n",
      "Non-string value encountered at index 1059957: nan\n",
      "Non-string value encountered at index 1059980: nan\n",
      "Non-string value encountered at index 1060000: nan\n",
      "Non-string value encountered at index 1060017: nan\n",
      "Non-string value encountered at index 1060024: nan\n",
      "Non-string value encountered at index 1060054: nan\n",
      "Non-string value encountered at index 1060104: nan\n",
      "Non-string value encountered at index 1060139: nan\n",
      "Non-string value encountered at index 1060519: nan\n",
      "Non-string value encountered at index 1060560: nan\n",
      "Non-string value encountered at index 1060564: nan\n",
      "Non-string value encountered at index 1060566: nan\n",
      "Non-string value encountered at index 1060590: nan\n",
      "Non-string value encountered at index 1060602: nan\n",
      "Non-string value encountered at index 1060626: nan\n",
      "Non-string value encountered at index 1060634: nan\n",
      "Non-string value encountered at index 1060638: nan\n",
      "Non-string value encountered at index 1060758: nan\n",
      "Non-string value encountered at index 1060778: nan\n",
      "Non-string value encountered at index 1060792: nan\n",
      "Non-string value encountered at index 1060926: nan\n",
      "Non-string value encountered at index 1061079: nan\n",
      "Non-string value encountered at index 1061091: nan\n",
      "Non-string value encountered at index 1061229: nan\n",
      "Non-string value encountered at index 1061275: nan\n",
      "Non-string value encountered at index 1061306: nan\n",
      "Non-string value encountered at index 1061322: nan\n",
      "Non-string value encountered at index 1061350: nan\n",
      "Non-string value encountered at index 1061408: nan\n",
      "Non-string value encountered at index 1061430: nan\n",
      "Non-string value encountered at index 1061505: nan\n",
      "Non-string value encountered at index 1061638: nan\n",
      "Non-string value encountered at index 1061641: nan\n",
      "Non-string value encountered at index 1061722: nan\n",
      "Non-string value encountered at index 1061778: nan\n",
      "Non-string value encountered at index 1061931: nan\n",
      "Non-string value encountered at index 1061934: nan\n",
      "Non-string value encountered at index 1061950: nan\n",
      "Non-string value encountered at index 1061960: nan\n",
      "Non-string value encountered at index 1061975: nan\n",
      "Non-string value encountered at index 1061986: nan\n",
      "Non-string value encountered at index 1062007: nan\n",
      "Non-string value encountered at index 1062022: nan\n",
      "Non-string value encountered at index 1062138: nan\n",
      "Non-string value encountered at index 1062149: nan\n",
      "Non-string value encountered at index 1062187: nan\n",
      "Non-string value encountered at index 1062239: nan\n",
      "Non-string value encountered at index 1062249: nan\n",
      "Non-string value encountered at index 1062261: nan\n",
      "Non-string value encountered at index 1062284: nan\n",
      "Non-string value encountered at index 1062353: nan\n",
      "Non-string value encountered at index 1062354: nan\n",
      "Non-string value encountered at index 1062397: nan\n",
      "Non-string value encountered at index 1062407: nan\n",
      "Non-string value encountered at index 1062429: nan\n",
      "Non-string value encountered at index 1062447: nan\n",
      "Non-string value encountered at index 1062472: nan\n",
      "Non-string value encountered at index 1062486: nan\n",
      "Non-string value encountered at index 1062572: nan\n",
      "Non-string value encountered at index 1062607: nan\n",
      "Non-string value encountered at index 1062652: nan\n",
      "Non-string value encountered at index 1062698: nan\n",
      "Non-string value encountered at index 1062711: nan\n",
      "Non-string value encountered at index 1062729: nan\n",
      "Non-string value encountered at index 1062734: nan\n",
      "Non-string value encountered at index 1062740: nan\n",
      "Non-string value encountered at index 1062752: nan\n",
      "Non-string value encountered at index 1062793: nan\n",
      "Non-string value encountered at index 1062823: nan\n",
      "Non-string value encountered at index 1062961: nan\n",
      "Non-string value encountered at index 1062981: nan\n",
      "Non-string value encountered at index 1063024: nan\n",
      "Non-string value encountered at index 1063057: nan\n",
      "Non-string value encountered at index 1063126: nan\n",
      "Non-string value encountered at index 1063248: nan\n",
      "Non-string value encountered at index 1063250: nan\n",
      "Non-string value encountered at index 1063408: nan\n",
      "Non-string value encountered at index 1063499: nan\n",
      "Non-string value encountered at index 1063529: nan\n",
      "Non-string value encountered at index 1063552: nan\n",
      "Non-string value encountered at index 1063673: nan\n",
      "Non-string value encountered at index 1063966: nan\n",
      "Non-string value encountered at index 1063978: nan\n",
      "Non-string value encountered at index 1063993: nan\n",
      "Non-string value encountered at index 1064057: nan\n",
      "Non-string value encountered at index 1064067: nan\n",
      "Non-string value encountered at index 1064072: nan\n",
      "Non-string value encountered at index 1064380: nan\n",
      "Non-string value encountered at index 1064389: nan\n",
      "Non-string value encountered at index 1064405: nan\n",
      "Non-string value encountered at index 1064466: nan\n",
      "Non-string value encountered at index 1064472: nan\n",
      "Non-string value encountered at index 1064597: nan\n",
      "Non-string value encountered at index 1064601: nan\n",
      "Non-string value encountered at index 1064619: nan\n",
      "Non-string value encountered at index 1064755: nan\n",
      "Non-string value encountered at index 1064985: nan\n",
      "Non-string value encountered at index 1064994: nan\n",
      "Non-string value encountered at index 1064997: nan\n",
      "Non-string value encountered at index 1065061: nan\n",
      "Non-string value encountered at index 1065071: nan\n",
      "Non-string value encountered at index 1065125: nan\n",
      "Non-string value encountered at index 1065140: nan\n"
     ]
    },
    {
     "name": "stderr",
     "output_type": "stream",
     "text": [
      " 67%|██████▋   | 963913/1434242 [00:13<00:06, 71935.16it/s]"
     ]
    },
    {
     "name": "stdout",
     "output_type": "stream",
     "text": [
      "Non-string value encountered at index 1066168: nan\n",
      "Non-string value encountered at index 1066169: nan\n",
      "Non-string value encountered at index 1066199: nan\n",
      "Non-string value encountered at index 1066200: nan\n",
      "Non-string value encountered at index 1066333: nan\n",
      "Non-string value encountered at index 1066357: nan\n",
      "Non-string value encountered at index 1066364: nan\n",
      "Non-string value encountered at index 1066388: nan\n",
      "Non-string value encountered at index 1066426: nan\n",
      "Non-string value encountered at index 1066429: nan\n",
      "Non-string value encountered at index 1066687: nan\n",
      "Non-string value encountered at index 1066700: nan\n",
      "Non-string value encountered at index 1066723: nan\n",
      "Non-string value encountered at index 1066767: nan\n",
      "Non-string value encountered at index 1066802: nan\n",
      "Non-string value encountered at index 1066891: nan\n",
      "Non-string value encountered at index 1067087: nan\n",
      "Non-string value encountered at index 1067097: nan\n",
      "Non-string value encountered at index 1067114: nan\n",
      "Non-string value encountered at index 1067182: nan\n",
      "Non-string value encountered at index 1067205: nan\n",
      "Non-string value encountered at index 1067208: nan\n",
      "Non-string value encountered at index 1067267: nan\n",
      "Non-string value encountered at index 1067284: nan\n",
      "Non-string value encountered at index 1067285: nan\n",
      "Non-string value encountered at index 1067322: nan\n",
      "Non-string value encountered at index 1067380: nan\n",
      "Non-string value encountered at index 1067400: nan\n",
      "Non-string value encountered at index 1067650: nan\n",
      "Non-string value encountered at index 1067658: nan\n",
      "Non-string value encountered at index 1067711: nan\n",
      "Non-string value encountered at index 1067730: nan\n",
      "Non-string value encountered at index 1067901: nan\n",
      "Non-string value encountered at index 1068003: nan\n",
      "Non-string value encountered at index 1068036: nan\n",
      "Non-string value encountered at index 1068166: nan\n",
      "Non-string value encountered at index 1068184: nan\n",
      "Non-string value encountered at index 1068240: nan\n",
      "Non-string value encountered at index 1068325: nan\n",
      "Non-string value encountered at index 1068343: nan\n",
      "Non-string value encountered at index 1068362: nan\n",
      "Non-string value encountered at index 1068385: nan\n",
      "Non-string value encountered at index 1068394: nan\n",
      "Non-string value encountered at index 1068430: nan\n",
      "Non-string value encountered at index 1068449: nan\n",
      "Non-string value encountered at index 1068499: nan\n",
      "Non-string value encountered at index 1068506: nan\n",
      "Non-string value encountered at index 1068525: nan\n",
      "Non-string value encountered at index 1068570: nan\n",
      "Non-string value encountered at index 1068633: nan\n",
      "Non-string value encountered at index 1068875: nan\n",
      "Non-string value encountered at index 1069245: nan\n",
      "Non-string value encountered at index 1069249: nan\n",
      "Non-string value encountered at index 1069314: nan\n",
      "Non-string value encountered at index 1069316: nan\n",
      "Non-string value encountered at index 1069350: nan\n",
      "Non-string value encountered at index 1069384: nan\n",
      "Non-string value encountered at index 1069392: nan\n",
      "Non-string value encountered at index 1069461: nan\n",
      "Non-string value encountered at index 1069528: nan\n",
      "Non-string value encountered at index 1069743: nan\n",
      "Non-string value encountered at index 1069746: nan\n",
      "Non-string value encountered at index 1069816: nan\n",
      "Non-string value encountered at index 1070004: nan\n",
      "Non-string value encountered at index 1070010: nan\n",
      "Non-string value encountered at index 1070397: nan\n",
      "Non-string value encountered at index 1070439: nan\n",
      "Non-string value encountered at index 1070447: nan\n",
      "Non-string value encountered at index 1070477: nan\n",
      "Non-string value encountered at index 1070499: nan\n",
      "Non-string value encountered at index 1070503: nan\n",
      "Non-string value encountered at index 1070551: nan\n",
      "Non-string value encountered at index 1070577: nan\n",
      "Non-string value encountered at index 1070597: nan\n",
      "Non-string value encountered at index 1070627: nan\n",
      "Non-string value encountered at index 1070634: nan\n",
      "Non-string value encountered at index 1070700: nan\n",
      "Non-string value encountered at index 1070969: nan\n",
      "Non-string value encountered at index 1070975: nan\n",
      "Non-string value encountered at index 1071043: nan\n",
      "Non-string value encountered at index 1071052: nan\n",
      "Non-string value encountered at index 1071123: nan\n",
      "Non-string value encountered at index 1071154: nan\n",
      "Non-string value encountered at index 1071425: nan\n",
      "Non-string value encountered at index 1071445: nan\n",
      "Non-string value encountered at index 1071473: nan\n",
      "Non-string value encountered at index 1071535: nan\n",
      "Non-string value encountered at index 1071704: nan\n",
      "Non-string value encountered at index 1071730: nan\n",
      "Non-string value encountered at index 1071780: nan\n",
      "Non-string value encountered at index 1071833: nan\n",
      "Non-string value encountered at index 1071857: nan\n",
      "Non-string value encountered at index 1071870: nan\n",
      "Non-string value encountered at index 1071964: nan\n",
      "Non-string value encountered at index 1071998: nan\n",
      "Non-string value encountered at index 1072010: nan\n",
      "Non-string value encountered at index 1072147: nan\n",
      "Non-string value encountered at index 1072148: nan\n",
      "Non-string value encountered at index 1072172: nan\n",
      "Non-string value encountered at index 1072204: nan\n",
      "Non-string value encountered at index 1072255: nan\n",
      "Non-string value encountered at index 1072256: nan\n",
      "Non-string value encountered at index 1072289: nan\n",
      "Non-string value encountered at index 1072321: nan\n",
      "Non-string value encountered at index 1072332: nan\n",
      "Non-string value encountered at index 1072354: nan\n",
      "Non-string value encountered at index 1072375: nan\n",
      "Non-string value encountered at index 1072542: nan\n",
      "Non-string value encountered at index 1072574: nan\n",
      "Non-string value encountered at index 1072587: nan\n",
      "Non-string value encountered at index 1072634: nan\n",
      "Non-string value encountered at index 1072635: nan\n",
      "Non-string value encountered at index 1072636: nan\n",
      "Non-string value encountered at index 1072643: nan\n",
      "Non-string value encountered at index 1072645: nan\n",
      "Non-string value encountered at index 1072648: nan\n",
      "Non-string value encountered at index 1072653: nan\n",
      "Non-string value encountered at index 1072676: nan\n",
      "Non-string value encountered at index 1072681: nan\n",
      "Non-string value encountered at index 1072688: nan\n",
      "Non-string value encountered at index 1072689: nan\n",
      "Non-string value encountered at index 1072770: nan\n",
      "Non-string value encountered at index 1072840: nan\n",
      "Non-string value encountered at index 1072919: nan\n",
      "Non-string value encountered at index 1072947: nan\n",
      "Non-string value encountered at index 1073109: nan\n",
      "Non-string value encountered at index 1073115: nan\n",
      "Non-string value encountered at index 1073117: nan\n",
      "Non-string value encountered at index 1073260: nan\n",
      "Non-string value encountered at index 1073263: nan\n",
      "Non-string value encountered at index 1073267: nan\n",
      "Non-string value encountered at index 1073285: nan\n",
      "Non-string value encountered at index 1073447: nan\n",
      "Non-string value encountered at index 1073548: nan\n",
      "Non-string value encountered at index 1073552: nan\n",
      "Non-string value encountered at index 1073553: nan\n",
      "Non-string value encountered at index 1073597: nan\n",
      "Non-string value encountered at index 1073615: nan\n",
      "Non-string value encountered at index 1073637: nan\n",
      "Non-string value encountered at index 1073651: nan\n",
      "Non-string value encountered at index 1073691: nan\n",
      "Non-string value encountered at index 1073719: nan\n",
      "Non-string value encountered at index 1073760: nan\n",
      "Non-string value encountered at index 1073767: nan\n",
      "Non-string value encountered at index 1073786: nan\n",
      "Non-string value encountered at index 1073802: nan\n",
      "Non-string value encountered at index 1073895: nan\n",
      "Non-string value encountered at index 1073916: nan\n",
      "Non-string value encountered at index 1074009: nan\n",
      "Non-string value encountered at index 1074061: nan\n",
      "Non-string value encountered at index 1074072: nan\n",
      "Non-string value encountered at index 1074075: nan\n",
      "Non-string value encountered at index 1074088: nan\n",
      "Non-string value encountered at index 1074115: nan\n",
      "Non-string value encountered at index 1074128: nan\n",
      "Non-string value encountered at index 1074140: nan\n",
      "Non-string value encountered at index 1074145: nan\n",
      "Non-string value encountered at index 1074153: nan\n",
      "Non-string value encountered at index 1074193: nan\n",
      "Non-string value encountered at index 1074203: nan\n",
      "Non-string value encountered at index 1074255: nan\n",
      "Non-string value encountered at index 1074451: nan\n",
      "Non-string value encountered at index 1074659: nan\n",
      "Non-string value encountered at index 1074693: nan\n",
      "Non-string value encountered at index 1074737: nan\n",
      "Non-string value encountered at index 1074859: nan\n",
      "Non-string value encountered at index 1074887: nan\n",
      "Non-string value encountered at index 1074888: nan\n",
      "Non-string value encountered at index 1074906: nan\n",
      "Non-string value encountered at index 1074930: nan\n",
      "Non-string value encountered at index 1074939: nan\n",
      "Non-string value encountered at index 1074962: nan\n",
      "Non-string value encountered at index 1074972: nan\n",
      "Non-string value encountered at index 1074977: nan\n",
      "Non-string value encountered at index 1074985: nan\n",
      "Non-string value encountered at index 1075037: nan\n",
      "Non-string value encountered at index 1075203: nan\n",
      "Non-string value encountered at index 1075215: nan\n",
      "Non-string value encountered at index 1075293: nan\n",
      "Non-string value encountered at index 1075305: nan\n",
      "Non-string value encountered at index 1075328: nan\n",
      "Non-string value encountered at index 1075362: nan\n",
      "Non-string value encountered at index 1075378: nan\n",
      "Non-string value encountered at index 1075392: nan\n",
      "Non-string value encountered at index 1075414: nan\n",
      "Non-string value encountered at index 1075415: nan\n",
      "Non-string value encountered at index 1075442: nan\n",
      "Non-string value encountered at index 1075460: nan\n",
      "Non-string value encountered at index 1075653: nan\n",
      "Non-string value encountered at index 1075691: nan\n",
      "Non-string value encountered at index 1075782: nan\n",
      "Non-string value encountered at index 1075823: nan\n",
      "Non-string value encountered at index 1075983: nan\n",
      "Non-string value encountered at index 1076026: nan\n",
      "Non-string value encountered at index 1076034: nan\n",
      "Non-string value encountered at index 1076111: nan\n",
      "Non-string value encountered at index 1076297: nan\n",
      "Non-string value encountered at index 1076314: nan\n",
      "Non-string value encountered at index 1076326: nan\n",
      "Non-string value encountered at index 1076382: nan\n",
      "Non-string value encountered at index 1076402: nan\n",
      "Non-string value encountered at index 1076406: nan\n",
      "Non-string value encountered at index 1076420: nan\n",
      "Non-string value encountered at index 1076454: nan\n",
      "Non-string value encountered at index 1076645: nan\n",
      "Non-string value encountered at index 1076693: nan\n",
      "Non-string value encountered at index 1076733: nan\n",
      "Non-string value encountered at index 1076915: nan\n",
      "Non-string value encountered at index 1077027: nan\n",
      "Non-string value encountered at index 1077113: nan\n",
      "Non-string value encountered at index 1077136: nan\n",
      "Non-string value encountered at index 1077143: nan\n",
      "Non-string value encountered at index 1077158: nan\n",
      "Non-string value encountered at index 1077220: nan\n",
      "Non-string value encountered at index 1077267: nan\n",
      "Non-string value encountered at index 1077305: nan\n",
      "Non-string value encountered at index 1077411: nan\n",
      "Non-string value encountered at index 1077443: nan\n",
      "Non-string value encountered at index 1077485: nan\n",
      "Non-string value encountered at index 1077640: nan\n",
      "Non-string value encountered at index 1077681: nan\n",
      "Non-string value encountered at index 1077741: nan\n",
      "Non-string value encountered at index 1077747: nan\n",
      "Non-string value encountered at index 1077902: nan\n",
      "Non-string value encountered at index 1077940: nan\n",
      "Non-string value encountered at index 1077972: nan\n",
      "Non-string value encountered at index 1077977: nan\n",
      "Non-string value encountered at index 1077993: nan\n",
      "Non-string value encountered at index 1077994: nan\n",
      "Non-string value encountered at index 1078030: nan\n",
      "Non-string value encountered at index 1078069: nan\n",
      "Non-string value encountered at index 1078078: nan\n",
      "Non-string value encountered at index 1078129: nan\n",
      "Non-string value encountered at index 1078139: nan\n",
      "Non-string value encountered at index 1078181: nan\n",
      "Non-string value encountered at index 1078210: nan\n",
      "Non-string value encountered at index 1078237: nan\n",
      "Non-string value encountered at index 1078272: nan\n",
      "Non-string value encountered at index 1078292: nan\n",
      "Non-string value encountered at index 1078295: nan\n",
      "Non-string value encountered at index 1078311: nan\n",
      "Non-string value encountered at index 1078312: nan\n",
      "Non-string value encountered at index 1078336: nan\n",
      "Non-string value encountered at index 1078383: nan\n",
      "Non-string value encountered at index 1078421: nan\n",
      "Non-string value encountered at index 1078446: nan\n",
      "Non-string value encountered at index 1078513: nan\n",
      "Non-string value encountered at index 1078538: nan\n",
      "Non-string value encountered at index 1078559: nan\n",
      "Non-string value encountered at index 1078589: nan\n",
      "Non-string value encountered at index 1078748: nan\n",
      "Non-string value encountered at index 1078782: nan\n",
      "Non-string value encountered at index 1078799: nan\n",
      "Non-string value encountered at index 1078842: nan\n",
      "Non-string value encountered at index 1078847: nan\n",
      "Non-string value encountered at index 1078871: nan\n",
      "Non-string value encountered at index 1078880: nan\n",
      "Non-string value encountered at index 1078905: nan\n",
      "Non-string value encountered at index 1078946: nan\n",
      "Non-string value encountered at index 1078947: nan\n",
      "Non-string value encountered at index 1078967: nan\n",
      "Non-string value encountered at index 1078983: nan\n",
      "Non-string value encountered at index 1079003: nan\n",
      "Non-string value encountered at index 1079005: nan\n",
      "Non-string value encountered at index 1079046: nan\n",
      "Non-string value encountered at index 1079061: nan\n",
      "Non-string value encountered at index 1079077: nan\n",
      "Non-string value encountered at index 1079092: nan\n",
      "Non-string value encountered at index 1079097: nan\n",
      "Non-string value encountered at index 1079100: nan\n",
      "Non-string value encountered at index 1079106: nan\n",
      "Non-string value encountered at index 1079127: nan\n",
      "Non-string value encountered at index 1079158: nan\n",
      "Non-string value encountered at index 1079203: nan\n",
      "Non-string value encountered at index 1079382: nan\n",
      "Non-string value encountered at index 1079428: nan\n",
      "Non-string value encountered at index 1079669: nan\n",
      "Non-string value encountered at index 1079700: nan\n",
      "Non-string value encountered at index 1079701: nan\n",
      "Non-string value encountered at index 1079819: nan\n",
      "Non-string value encountered at index 1079959: nan\n",
      "Non-string value encountered at index 1080126: nan\n",
      "Non-string value encountered at index 1080166: nan\n",
      "Non-string value encountered at index 1080336: nan\n",
      "Non-string value encountered at index 1080401: nan\n",
      "Non-string value encountered at index 1080584: nan\n",
      "Non-string value encountered at index 1080634: nan\n",
      "Non-string value encountered at index 1080801: nan\n",
      "Non-string value encountered at index 1080953: nan\n",
      "Non-string value encountered at index 1081023: nan\n",
      "Non-string value encountered at index 1081158: nan\n",
      "Non-string value encountered at index 1081328: nan\n",
      "Non-string value encountered at index 1081520: nan\n",
      "Non-string value encountered at index 1081751: nan\n",
      "Non-string value encountered at index 1081826: nan\n",
      "Non-string value encountered at index 1081994: nan\n",
      "Non-string value encountered at index 1082278: nan\n",
      "Non-string value encountered at index 1082441: nan\n",
      "Non-string value encountered at index 1082468: nan\n",
      "Non-string value encountered at index 1082503: nan\n",
      "Non-string value encountered at index 1082681: nan\n",
      "Non-string value encountered at index 1082963: nan\n",
      "Non-string value encountered at index 1083127: nan\n",
      "Non-string value encountered at index 1083182: nan\n",
      "Non-string value encountered at index 1083236: nan\n",
      "Non-string value encountered at index 1083310: nan\n",
      "Non-string value encountered at index 1083409: nan\n",
      "Non-string value encountered at index 1083428: nan\n",
      "Non-string value encountered at index 1083445: nan\n",
      "Non-string value encountered at index 1083613: nan\n",
      "Non-string value encountered at index 1083777: nan\n",
      "Non-string value encountered at index 1083813: nan\n",
      "Non-string value encountered at index 1083846: nan\n",
      "Non-string value encountered at index 1083924: nan\n",
      "Non-string value encountered at index 1083983: nan\n",
      "Non-string value encountered at index 1084145: nan\n",
      "Non-string value encountered at index 1084280: nan\n",
      "Non-string value encountered at index 1084425: nan\n",
      "Non-string value encountered at index 1084869: nan\n",
      "Non-string value encountered at index 1085103: nan\n",
      "Non-string value encountered at index 1085250: nan\n",
      "Non-string value encountered at index 1085274: nan\n",
      "Non-string value encountered at index 1085275: nan\n",
      "Non-string value encountered at index 1085365: nan\n",
      "Non-string value encountered at index 1085455: nan\n",
      "Non-string value encountered at index 1085456: nan\n",
      "Non-string value encountered at index 1085503: nan\n",
      "Non-string value encountered at index 1085537: nan\n",
      "Non-string value encountered at index 1085609: nan\n",
      "Non-string value encountered at index 1085610: nan\n",
      "Non-string value encountered at index 1085713: nan\n",
      "Non-string value encountered at index 1085747: nan\n",
      "Non-string value encountered at index 1085812: nan\n",
      "Non-string value encountered at index 1085934: nan\n",
      "Non-string value encountered at index 1085979: nan\n",
      "Non-string value encountered at index 1086014: nan\n",
      "Non-string value encountered at index 1086015: nan\n",
      "Non-string value encountered at index 1086132: nan\n",
      "Non-string value encountered at index 1086133: nan\n",
      "Non-string value encountered at index 1086146: nan\n",
      "Non-string value encountered at index 1086199: nan\n",
      "Non-string value encountered at index 1086306: nan\n",
      "Non-string value encountered at index 1086307: nan\n",
      "Non-string value encountered at index 1086358: nan\n",
      "Non-string value encountered at index 1086359: nan\n",
      "Non-string value encountered at index 1086408: nan\n",
      "Non-string value encountered at index 1086554: nan\n",
      "Non-string value encountered at index 1086709: nan\n",
      "Non-string value encountered at index 1086756: nan\n",
      "Non-string value encountered at index 1086757: nan\n",
      "Non-string value encountered at index 1086789: nan\n",
      "Non-string value encountered at index 1086790: nan\n",
      "Non-string value encountered at index 1086806: nan\n",
      "Non-string value encountered at index 1086984: nan\n",
      "Non-string value encountered at index 1087145: nan\n",
      "Non-string value encountered at index 1087170: nan\n",
      "Non-string value encountered at index 1087185: nan\n",
      "Non-string value encountered at index 1087200: nan\n",
      "Non-string value encountered at index 1087286: nan\n",
      "Non-string value encountered at index 1087449: nan\n",
      "Non-string value encountered at index 1087529: nan\n",
      "Non-string value encountered at index 1087594: nan\n",
      "Non-string value encountered at index 1087609: nan\n",
      "Non-string value encountered at index 1087648: nan\n",
      "Non-string value encountered at index 1087662: nan\n",
      "Non-string value encountered at index 1087664: nan\n",
      "Non-string value encountered at index 1087687: nan\n",
      "Non-string value encountered at index 1087719: nan\n",
      "Non-string value encountered at index 1087720: nan\n",
      "Non-string value encountered at index 1087885: nan\n",
      "Non-string value encountered at index 1087914: nan\n",
      "Non-string value encountered at index 1088181: nan\n",
      "Non-string value encountered at index 1088345: nan\n",
      "Non-string value encountered at index 1088346: nan\n",
      "Non-string value encountered at index 1088379: nan\n",
      "Non-string value encountered at index 1088380: nan\n",
      "Non-string value encountered at index 1088430: nan\n",
      "Non-string value encountered at index 1088489: nan\n",
      "Non-string value encountered at index 1088660: nan\n",
      "Non-string value encountered at index 1088767: nan\n",
      "Non-string value encountered at index 1088953: nan\n",
      "Non-string value encountered at index 1089195: nan\n",
      "Non-string value encountered at index 1089196: nan\n",
      "Non-string value encountered at index 1089328: nan\n",
      "Non-string value encountered at index 1089550: nan\n",
      "Non-string value encountered at index 1089607: nan\n",
      "Non-string value encountered at index 1089749: nan\n",
      "Non-string value encountered at index 1089970: nan\n",
      "Non-string value encountered at index 1090247: nan\n",
      "Non-string value encountered at index 1090397: nan\n"
     ]
    },
    {
     "name": "stderr",
     "output_type": "stream",
     "text": [
      " 71%|███████▏  | 1024028/1434242 [00:13<00:04, 91996.30it/s]"
     ]
    },
    {
     "name": "stdout",
     "output_type": "stream",
     "text": [
      "Non-string value encountered at index 1130790: nan\n"
     ]
    },
    {
     "name": "stderr",
     "output_type": "stream",
     "text": [
      " 73%|███████▎  | 1050000/1434242 [00:14<00:04, 77940.52it/s]"
     ]
    },
    {
     "name": "stdout",
     "output_type": "stream",
     "text": [
      "Non-string value encountered at index 1158016: nan\n"
     ]
    },
    {
     "name": "stderr",
     "output_type": "stream",
     "text": [
      "100%|██████████| 1434242/1434242 [00:19<00:00, 73769.86it/s]\n"
     ]
    }
   ],
   "source": [
    "from tqdm import tqdm\n",
    "\n",
    "# Assuming `ids_to_keep` and `ids_to_remove` are defined as before\n",
    "ids_to_keep = [i for i in range(len(hindi_text)) if i not in ids_to_remove.keys()]\n",
    "\n",
    "filtered_eng_text = []\n",
    "filtered_hindi_text = []\n",
    "\n",
    "# Iterate over the indices to keep\n",
    "for _id in tqdm(ids_to_keep):\n",
    "    eng_text_value = english_text[_id]\n",
    "    \n",
    "    # Check if the value is a string before calling .lower()\n",
    "    if isinstance(eng_text_value, str):\n",
    "        filtered_eng_text.append(eng_text_value.lower())\n",
    "    else:\n",
    "        # Handle non-string values (e.g., logging the issue)\n",
    "        print(f\"Non-string value encountered at index {_id}: {eng_text_value}\")\n",
    "        # Choose how to handle it; here we append an empty string\n",
    "        filtered_eng_text.append(\"\")  # or you can continue to skip this value\n",
    "    \n",
    "    # Append the corresponding Hindi text (assuming it's valid)\n",
    "    filtered_hindi_text.append(hindi_text[_id])\n",
    "\n",
    "# Optionally, print the results for verification\n",
    "print(\"Filtered English Text:\")\n",
    "print(filtered_eng_text)\n",
    "print(\"Filtered Hindi Text:\")\n",
    "print(filtered_hindi_text)\n",
    "\n",
    "# Additional debugging: Print types of all elements in english_text\n",
    "print(\"\\nTypes of elements in english_text:\")\n",
    "for index, value in enumerate(english_text):\n",
    "    print(f\"Index {index}: Type {type(value)}, Value: {value}\")\n"
   ]
  },
  {
   "cell_type": "code",
   "execution_count": 15,
   "metadata": {},
   "outputs": [
    {
     "name": "stderr",
     "output_type": "stream",
     "text": [
      "100%|██████████| 904975/904975 [02:42<00:00, 5571.89it/s]\n"
     ]
    }
   ],
   "source": [
    "#Treating english sentences\n",
    "clean_eng_text = []\n",
    "for sent in tqdm(filtered_eng_text):\n",
    "    clean_eng_text.append(clean_text(_text=copy.deepcopy(sent), lang=\"en\"))\n",
    "    \n"
   ]
  },
  {
   "cell_type": "code",
   "execution_count": 19,
   "metadata": {},
   "outputs": [
    {
     "name": "stderr",
     "output_type": "stream",
     "text": [
      "100%|██████████| 904975/904975 [00:08<00:00, 109276.45it/s]\n"
     ]
    }
   ],
   "source": [
    "#Treating hindi sentences\n",
    "clean_hindi_text = []\n",
    "for sent in tqdm(filtered_hindi_text):\n",
    "    clean_hindi_text.append(clean_text(_text=copy.deepcopy(sent), lang=\"hi\"))"
   ]
  },
  {
   "cell_type": "code",
   "execution_count": 20,
   "metadata": {},
   "outputs": [],
   "source": [
    "clean_data = pd.DataFrame({'eng_text':clean_eng_text, 'hindi_text':clean_hindi_text})"
   ]
  },
  {
   "cell_type": "code",
   "execution_count": 21,
   "metadata": {},
   "outputs": [
    {
     "data": {
      "text/plain": [
       "<bound method NDFrame.head of                                                  eng_text  \\\n",
       "0          give your application an accessibility workout   \n",
       "1                       accerciser accessibility explorer   \n",
       "2          the default plugin layout for the bottom panel   \n",
       "3             the default plugin layout for the top panel   \n",
       "4          a list of plugins that are disabled by default   \n",
       "...                                                   ...   \n",
       "904970  कते हैं। opening of a finnode centre in delhi ...   \n",
       "904971  प्राप्त होगी। by 2020, india is set to become ...   \n",
       "904972  है। i note that this is a landmark meeting  no...   \n",
       "904973  है। in the presentations that they made before...   \n",
       "904974  ्त है। issues such as food and water security ...   \n",
       "\n",
       "                                               hindi_text  \n",
       "0         अपने अनुप्रयोग को पहुंचनीयता व्यायाम का लाभ दें  \n",
       "1                         एक्सेर्साइसर पहुंचनीयता अन्वेषक  \n",
       "2                    निचले पटल के लिए डिफोल्ट प्लगइन खाका  \n",
       "3                     ऊपरी पटल के लिए डिफोल्ट प्लगइन खाका  \n",
       "4       उन प्लगइनों की सूची जिन्हें डिफोल्ट रूप से निष...  \n",
       "...                                                   ...  \n",
       "904970  सितम्बर, 2014में दिल्ली में फिननोड केंद्र की श...  \n",
       "904971  भारत अपनी 64 प्रतिशत कार्यशील आयु समूह आबादी क...  \n",
       "904972  मैंने गौर किया है कि यह न केवल अपने महत्त्वपूर...  \n",
       "904973  उन्होंने मेरे समक्ष जो प्रदर्शन किया उसमें से ...  \n",
       "904974  खाद्य और जल सुरक्षा पर्यावरण की दृष्टि से वहनी...  \n",
       "\n",
       "[904975 rows x 2 columns]>"
      ]
     },
     "execution_count": 21,
     "metadata": {},
     "output_type": "execute_result"
    }
   ],
   "source": [
    "clean_data.head"
   ]
  },
  {
   "cell_type": "markdown",
   "metadata": {},
   "source": [
    "## Filtering data based on sentence length"
   ]
  },
  {
   "cell_type": "code",
   "execution_count": 22,
   "metadata": {},
   "outputs": [],
   "source": [
    "clean_data[\"eng_len\"] = clean_data.eng_text.str.count(\"\")\n",
    "clean_data['hindi_len'] = clean_data.hindi_text.str.count(\"\")\n",
    "small_len_data = clean_data.query('eng_len < 50 & hindi_len < 50')"
   ]
  },
  {
   "cell_type": "code",
   "execution_count": 26,
   "metadata": {},
   "outputs": [],
   "source": [
    "#Train_Val split\n",
    "#Full set\n",
    "\n",
    "train_set, val_set = train_test_split(small_len_data.loc[:, ['eng_text','hindi_text']], test_size=0.1)\n",
    "train_set.to_csv(\"train.csv\", index=False)\n",
    "val_set.to_csv(\"val.csv\", index=False)"
   ]
  },
  {
   "cell_type": "code",
   "execution_count": 27,
   "metadata": {},
   "outputs": [],
   "source": [
    "small_data = small_len_data.loc[:, [\"eng_text\", \"hindi_text\"]].sample(n=150000)\n",
    "train_set_sm, val_set_sm = train_test_split(small_data, test_size=0.3)\n",
    "train_set_sm.to_csv(\"train_sm.csv\", index=False)\n",
    "val_set_sm.to_csv(\"val_sm.csv\", index=False)"
   ]
  }
 ],
 "metadata": {
  "kernelspec": {
   "display_name": "venv",
   "language": "python",
   "name": "python3"
  },
  "language_info": {
   "codemirror_mode": {
    "name": "ipython",
    "version": 3
   },
   "file_extension": ".py",
   "mimetype": "text/x-python",
   "name": "python",
   "nbconvert_exporter": "python",
   "pygments_lexer": "ipython3",
   "version": "3.12.1"
  }
 },
 "nbformat": 4,
 "nbformat_minor": 2
}
